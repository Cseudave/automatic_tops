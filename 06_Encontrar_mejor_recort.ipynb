{
  "nbformat": 4,
  "nbformat_minor": 0,
  "metadata": {
    "colab": {
      "provenance": [],
      "collapsed_sections": [
        "0oaV69iaTiC_",
        "bzOMqbshUkck",
        "NG_eYW29Z-Ko",
        "IkeNSNbahS1Q",
        "1RqyiLRPluFm",
        "r0jnE0zqrGwM",
        "lYo71E3WrMiL",
        "2wv-m8-3tUta",
        "-1MZqIzqwc5E",
        "K_YwM-ojxGeC",
        "j2pFu83nyDSG"
      ],
      "authorship_tag": "ABX9TyPSxdV74MHfKqh4CPartCv7",
      "include_colab_link": true
    },
    "kernelspec": {
      "name": "python3",
      "display_name": "Python 3"
    },
    "language_info": {
      "name": "python"
    }
  },
  "cells": [
    {
      "cell_type": "markdown",
      "metadata": {
        "id": "view-in-github",
        "colab_type": "text"
      },
      "source": [
        "<a href=\"https://colab.research.google.com/github/Cseudave/automatic_tops/blob/main/06_Encontrar_mejor_recort.ipynb\" target=\"_parent\"><img src=\"https://colab.research.google.com/assets/colab-badge.svg\" alt=\"Open In Colab\"/></a>"
      ]
    },
    {
      "cell_type": "markdown",
      "source": [
        "# Crear los videos cortos"
      ],
      "metadata": {
        "id": "5gBEMIi1p_TV"
      }
    },
    {
      "cell_type": "markdown",
      "source": [
        "MoviePy es una excelente librería que permite trabajar con videos usando python. Aunque no está optimizada para utilizar tarjetas gráficas, será muy útil.  "
      ],
      "metadata": {
        "id": "owF6cTi4qgJu"
      }
    },
    {
      "cell_type": "markdown",
      "source": [
        "## Instalar librerías necesarias"
      ],
      "metadata": {
        "id": "r0jnE0zqrGwM"
      }
    },
    {
      "cell_type": "code",
      "source": [
        "# Instalamos librerías\n",
        "!pip install google-api-python-client\n",
        "!pip install pytube\n",
        "\n",
        "!pip install moviepy\n",
        "!pip install imageio-ffmpeg \n",
        "!pip install imageio\n",
        "!apt install imagemagick\n",
        "\n",
        "!pip install IPython\n",
        "!pip install mpld3 \n",
        "\n",
        "!pip install fuzzywuzzy\n",
        "\n",
        "!pip install playsound"
      ],
      "metadata": {
        "id": "k567T-Hyp-W1"
      },
      "execution_count": null,
      "outputs": []
    },
    {
      "cell_type": "code",
      "source": [
        "# Actulizamos librerías\n",
        "!pip install --upgrade imageio-ffmpeg\n",
        "!pip install --upgrade moviepy \n",
        "!pip install --upgrade imageio\n",
        "!pip install --upgrade ffmpeg"
      ],
      "metadata": {
        "id": "keYru7rUq0kf"
      },
      "execution_count": null,
      "outputs": []
    },
    {
      "cell_type": "code",
      "source": [
        "# Configuración adicional para trabajar con texto en movipy usando ImageMagick\n",
        "!cat /etc/ImageMagick-6/policy.xml | sed 's/none/read,write/g'> /etc/ImageMagick-6/policy.xml"
      ],
      "metadata": {
        "id": "IcRC4lTLq4Kf"
      },
      "execution_count": null,
      "outputs": []
    },
    {
      "cell_type": "code",
      "source": [
        "# Importamos librerías\n",
        "from apiclient.discovery import build\n",
        "from pytube import YouTube\n",
        "import os \n",
        "import time\n",
        "from bs4 import BeautifulSoup\n",
        "\n",
        "import re\n",
        "import numpy as np\n",
        "from numpy import arange\n",
        "import pandas as pd\n",
        "import matplotlib.pyplot as plt\n",
        "\n",
        "import csv\n",
        "\n",
        "from IPython.core.display import HTML\n",
        "import mpld3 \n",
        "from scipy.stats import moment\n",
        "from moviepy.editor import *\n",
        "\n",
        "import os \n",
        "\n",
        "from moviepy.audio.AudioClip import concatenate_audioclips\n",
        "from moviepy.editor import concatenate_videoclips\n",
        "from moviepy.editor import VideoFileClip\n",
        "from moviepy.editor import ColorClip\n",
        "from moviepy.editor import CompositeVideoClip\n",
        "from moviepy.editor import *\n",
        "\n",
        "from IPython.display import Audio\n",
        "from datetime import datetime"
      ],
      "metadata": {
        "id": "BUIgEuzErB64"
      },
      "execution_count": null,
      "outputs": []
    },
    {
      "cell_type": "markdown",
      "source": [
        "## Recortar mejor momento"
      ],
      "metadata": {
        "id": "2wv-m8-3tUta"
      }
    },
    {
      "cell_type": "code",
      "source": [
        "# Obtenemos un array de los promedios de intensidad por segundo del opening\n",
        "def op_plot(opening):\n",
        "  clip = VideoFileClip(str(opening)+'.mp4')\n",
        "  audio_array = clip.audio.to_soundarray()\n",
        "  data =  abs(audio_array)\n",
        "  window_size = clip.audio.fps\n",
        "  indices = np.arange(len(data))\n",
        "  # Crea un array vacío para almacenar los promedios parciales\n",
        "  averages = []\n",
        "\n",
        "  # Itera sobre el array original con una ventana de tamaño window_size\n",
        "  for i in range(0, round(len(data)/window_size) + 1):\n",
        "      window = data[i*window_size:(i + 1)*window_size]\n",
        "      average = np.mean(window)\n",
        "      averages.append(average)\n",
        "  averages = np.array(averages)\n",
        "  averages = averages[~np.isnan(averages)]\n",
        "  indices = np.arange(len(averages))\n",
        "\n",
        "  # Convierte el array de promedios en un array de NumPy\n",
        "  averages = np.array(averages)\n",
        "  averages = averages/np.max(averages)\n",
        "\n",
        "  # Grafica el valor del array de promedios versus su índice\n",
        "  # Para poder analizarlo\n",
        "  plt.plot(indices, averages)\n",
        "  fig = plt.gcf()\n",
        "  html = mpld3.display(fig)\n",
        "  # Muestra la gráfica\n",
        "  display(html)\n",
        "\n",
        "  plt.show()\n",
        "  return averages, clip.duration"
      ],
      "metadata": {
        "id": "dKYw49LdtZEU"
      },
      "execution_count": null,
      "outputs": []
    },
    {
      "cell_type": "code",
      "source": [
        "# Normalizamos el array de intensidades\n",
        "def op_level(averages):\n",
        "  averages = np.array(averages)\n",
        "  x = averages/np.max(averages)\n",
        "  condiciones = [x < 0.1, x >= 0.1]\n",
        "  valores = [0, 1]\n",
        "  resultado = np.piecewise(x, condiciones, valores) \n",
        "  # Grafica el valor del array de promedios versus su índice\n",
        "  indices = np.arange(len(averages))\n",
        "  \n",
        "  # plt.plot(indices, resultado)\n",
        "  # fig = plt.gcf()\n",
        "  # html = mpld3.display(fig)\n",
        "  # # Muestra la gráfica\n",
        "  # display(html)\n",
        "\n",
        "  #plt.show()\n",
        "  return resultado"
      ],
      "metadata": {
        "id": "fbfwchmbundu"
      },
      "execution_count": null,
      "outputs": []
    },
    {
      "cell_type": "code",
      "source": [
        "def mask_silend(mapa, levels):\n",
        "# Una funcion para discriminar las partes sin sonido\n",
        "\n",
        "  level = np.array(\n",
        "      [levels[round(n*(len(levels)/len(mapa)))] \n",
        "       for n in range(0, len(mapa) - 1)])\n",
        "  \n",
        "  # fig, ax = plt.subplots()\n",
        "  # fig.set_size_inches(10, 2)\n",
        "  data = mapa[:-1] * level\n",
        "\n",
        "  # x = np.arange(len(data))\n",
        "  # plt.plot(x, data)\n",
        "  # plt.show\n",
        "  return data"
      ],
      "metadata": {
        "id": "7r9EhSoBu16e"
      },
      "execution_count": null,
      "outputs": []
    },
    {
      "cell_type": "code",
      "source": [
        "# Buscamos el intervalo más visto y con más intensidad\n",
        "def max_sample(arr, duration, n=20):\n",
        "  # size es el tamaño de la muestra\n",
        "  size = round(n*305/duration)\n",
        "  max_sum = 0\n",
        "  max_moment = np.amax(arr)\n",
        "  max_index = None\n",
        "  for i in range(len(arr) + 1):\n",
        "    sample = arr[i : i + size]\n",
        "    sample_sum = sum(sample)\n",
        "    if sample_sum > max_sum and max_moment in list(sample):\n",
        "      max_sum = sample_sum\n",
        "      max_sample = sample\n",
        "      max_index = i\n",
        "  return (max_index/305)*duration"
      ],
      "metadata": {
        "id": "ScOXoMWJu7Ak"
      },
      "execution_count": null,
      "outputs": []
    },
    {
      "cell_type": "code",
      "source": [
        "# Elegimos el mejor corte según dos criterios \n",
        "# 1. El mapa de momentos más reproducidos\n",
        "# 2. Si no es posible, según un comportamiento especifico buscado\n",
        "def best_cut(anime, origin=-1, n=20):\n",
        "  averages, duration = op_plot('ops_full/' + str(anime))\n",
        "  #print(averages)\n",
        "  levels = op_level(averages)\n",
        "  #mapa = 0\n",
        "  #print(levels)\n",
        "  try:\n",
        "    df = pd.read_csv('ops_maps/map_'+ str(anime) + '.csv')\n",
        "    arr = mask_silend(df['0'], levels)\n",
        "    #print(arr)\n",
        "    a = max_sample(arr, duration, n)\n",
        "    #mapa = 1\n",
        "  except:\n",
        "    a = 35\n",
        "  if origin >= 0:\n",
        "    a = origin\n",
        "  b = a + n\n",
        "  # print(f'rango {a}, {b}')\n",
        "  dif = diferences(np.array(averages))\n",
        "  a, b = choose_pair(dif, a, b, averages, 8, n)\n",
        "  return a , b"
      ],
      "metadata": {
        "id": "3zLgjVw_vDF4"
      },
      "execution_count": null,
      "outputs": []
    },
    {
      "cell_type": "code",
      "source": [
        "# Busca el intervalo con un comportamineto especifico\n",
        "# Donde existe mayor contraste y se mantiene una gran intensidad\n",
        "def choose_pair(arr, a, b, ave, s=8, n=20):\n",
        "  a = round(a)\n",
        "  b = round(b)\n",
        "  max_sum = 0\n",
        "  index = a\n",
        "  sign = 1\n",
        "  if a == 0:\n",
        "    sign = 0\n",
        "\n",
        "  pairs = [(a + i, a + s + i) for i in range(2*n)]\n",
        "\n",
        "  for i, pair in enumerate(pairs):\n",
        "\n",
        "    suma = (2*arr[pair[0]]  - arr[pair[0] - 1]) * ave[pair[0]] \n",
        "    if suma > max_sum:\n",
        "      max_sum = suma\n",
        "      index = a + i\n",
        "\n",
        "  return index + 1, index + s + 1"
      ],
      "metadata": {
        "id": "JK1Aw9USvX4k"
      },
      "execution_count": null,
      "outputs": []
    },
    {
      "cell_type": "code",
      "source": [
        "# Obtener los cambios de intensidad en cada segundo\n",
        "def diferences(arr):\n",
        "  arr1 = arr\n",
        "  arr2 = arr\n",
        "  arr2 = np.delete(arr2, 0)\n",
        "  arr2 = np.insert(arr2, -1, 0)\n",
        "  dif = arr2 - arr1\n",
        "  return dif"
      ],
      "metadata": {
        "id": "fAqMXqvfvsHU"
      },
      "execution_count": null,
      "outputs": []
    }
  ]
}