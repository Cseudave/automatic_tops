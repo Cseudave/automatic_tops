{
  "nbformat": 4,
  "nbformat_minor": 0,
  "metadata": {
    "colab": {
      "provenance": [],
      "collapsed_sections": [
        "0oaV69iaTiC_",
        "bzOMqbshUkck",
        "NG_eYW29Z-Ko",
        "IkeNSNbahS1Q",
        "1RqyiLRPluFm",
        "r0jnE0zqrGwM",
        "lYo71E3WrMiL",
        "2wv-m8-3tUta",
        "-1MZqIzqwc5E",
        "K_YwM-ojxGeC",
        "j2pFu83nyDSG"
      ],
      "authorship_tag": "ABX9TyPovVaOLzQz3o110FjimdFh",
      "include_colab_link": true
    },
    "kernelspec": {
      "name": "python3",
      "display_name": "Python 3"
    },
    "language_info": {
      "name": "python"
    }
  },
  "cells": [
    {
      "cell_type": "markdown",
      "metadata": {
        "id": "view-in-github",
        "colab_type": "text"
      },
      "source": [
        "<a href=\"https://colab.research.google.com/github/Cseudave/automatic_tops/blob/main/07_Convertir_video_a_clip.ipynb\" target=\"_parent\"><img src=\"https://colab.research.google.com/assets/colab-badge.svg\" alt=\"Open In Colab\"/></a>"
      ]
    },
    {
      "cell_type": "markdown",
      "source": [
        "# Crear los videos cortos"
      ],
      "metadata": {
        "id": "5gBEMIi1p_TV"
      }
    },
    {
      "cell_type": "markdown",
      "source": [
        "MoviePy es una excelente librería que permite trabajar con videos usando python. Aunque no está optimizada para utilizar tarjetas gráficas, será muy útil.  "
      ],
      "metadata": {
        "id": "owF6cTi4qgJu"
      }
    },
    {
      "cell_type": "markdown",
      "source": [
        "## Instalar librerías necesarias"
      ],
      "metadata": {
        "id": "r0jnE0zqrGwM"
      }
    },
    {
      "cell_type": "code",
      "source": [
        "# Instalamos librerías\n",
        "!pip install google-api-python-client\n",
        "!pip install pytube\n",
        "\n",
        "!pip install moviepy\n",
        "!pip install imageio-ffmpeg \n",
        "!pip install imageio\n",
        "!apt install imagemagick\n",
        "\n",
        "!pip install IPython\n",
        "!pip install mpld3 \n",
        "\n",
        "!pip install fuzzywuzzy\n",
        "\n",
        "!pip install playsound"
      ],
      "metadata": {
        "id": "k567T-Hyp-W1"
      },
      "execution_count": null,
      "outputs": []
    },
    {
      "cell_type": "code",
      "source": [
        "# Actulizamos librerías\n",
        "!pip install --upgrade imageio-ffmpeg\n",
        "!pip install --upgrade moviepy \n",
        "!pip install --upgrade imageio\n",
        "!pip install --upgrade ffmpeg"
      ],
      "metadata": {
        "id": "keYru7rUq0kf"
      },
      "execution_count": null,
      "outputs": []
    },
    {
      "cell_type": "code",
      "source": [
        "# Configuración adicional para trabajar con texto en movipy usando ImageMagick\n",
        "!cat /etc/ImageMagick-6/policy.xml | sed 's/none/read,write/g'> /etc/ImageMagick-6/policy.xml"
      ],
      "metadata": {
        "id": "IcRC4lTLq4Kf"
      },
      "execution_count": null,
      "outputs": []
    },
    {
      "cell_type": "code",
      "source": [
        "# Importamos librerías\n",
        "from apiclient.discovery import build\n",
        "from pytube import YouTube\n",
        "import os \n",
        "import time\n",
        "from bs4 import BeautifulSoup\n",
        "\n",
        "import re\n",
        "import numpy as np\n",
        "from numpy import arange\n",
        "import pandas as pd\n",
        "import matplotlib.pyplot as plt\n",
        "\n",
        "import csv\n",
        "\n",
        "from IPython.core.display import HTML\n",
        "import mpld3 \n",
        "from scipy.stats import moment\n",
        "from moviepy.editor import *\n",
        "\n",
        "import os \n",
        "\n",
        "from moviepy.audio.AudioClip import concatenate_audioclips\n",
        "from moviepy.editor import concatenate_videoclips\n",
        "from moviepy.editor import VideoFileClip\n",
        "from moviepy.editor import ColorClip\n",
        "from moviepy.editor import CompositeVideoClip\n",
        "from moviepy.editor import *\n",
        "\n",
        "from IPython.display import Audio\n",
        "from datetime import datetime"
      ],
      "metadata": {
        "id": "BUIgEuzErB64"
      },
      "execution_count": null,
      "outputs": []
    },
    {
      "cell_type": "markdown",
      "source": [
        "## Convertir opening a un clip"
      ],
      "metadata": {
        "id": "-1MZqIzqwc5E"
      }
    },
    {
      "cell_type": "code",
      "source": [
        "# Recorta el borde superior e inferior del vídeo\n",
        "def recortar(clip):\n",
        "  # Obtiene las dimensiones del vídeo\n",
        "  clip = clip.fx(vfx.mirror_x)\n",
        "  width, height = clip.size\n",
        "\n",
        "  # Calcula las coordenadas de inicio y final del recorte\n",
        "  x1 = (width - 1280) // 2\n",
        "  y1 = (height - 600) // 2\n",
        "  x2 = x1 + 1280\n",
        "  y2 = y1 + 600\n",
        "\n",
        "  # Recorta el vídeo\n",
        "  clip = clip.crop(x1=x1, y1=y1, x2=x2, y2=y2)\n",
        "\n",
        "  width, height = clip.size\n",
        "  # clip = clip.fx(lambda frame: frame.resize((1080, 660)))\n",
        "  clip = clip.fx(lambda frame: frame.resize((1080, 500)))\n",
        "  width, height = clip.size\n",
        "  print('Video redimensionado')\n",
        "  return clip"
      ],
      "metadata": {
        "id": "wuz9iFskwepD"
      },
      "execution_count": null,
      "outputs": []
    },
    {
      "cell_type": "code",
      "source": [
        "# Cortamos en tres secciones el video\n",
        "# Según la información del mejor corte\n",
        "def clips_x3(clip, a=30, o = 0, time=8):\n",
        "  inicios = [o, a - 0.5, (a - 0.5)/2]\n",
        "  finales = [i + time for i in inicios]\n",
        "  print(inicios)\n",
        "  print(finales)\n",
        "  clips = []\n",
        "  for i in range(0, 3):\n",
        "    clips.append(clip.subclip(t_start=inicios[i], t_end=finales[i]))\n",
        "  print('Video separado')\n",
        "  return clips"
      ],
      "metadata": {
        "id": "ZB3POOarwo_q"
      },
      "execution_count": null,
      "outputs": []
    },
    {
      "cell_type": "code",
      "source": [
        "# Silencia dos de los tres clips\n",
        "def silenciar(clips):\n",
        "  clips[0] = clips[0].set_audio(None)\n",
        "  clips[2] = clips[2].set_audio(None)\n",
        "  return clips"
      ],
      "metadata": {
        "id": "Q9svjtRswwwT"
      },
      "execution_count": null,
      "outputs": []
    },
    {
      "cell_type": "code",
      "source": [
        "def montar_lienzo(clips, name):\n",
        "    # Crea el lienzo de 1080 px de alto por 1920 px de ancho con fondo blanco\n",
        "  canvas = ColorClip((1080, 1920), color=(14, 14, 14))\n",
        "\n",
        "  # img = ImageClip('ops_templates/background.png')\n",
        "  # img = img.set_start(0.0)\n",
        "  # img = img.set_duration(clips[0].duration)\n",
        "\n",
        "\n",
        "  name, shadow = text_name(name)\n",
        "  # Agrega los vídeos al lienzo\n",
        "  result = CompositeVideoClip([canvas.subclip(t_start=0, t_end=clips[0].duration),\n",
        "                              clips[0].set_pos((0, 210)),\n",
        "                              clips[1].set_pos((0, 210 + clips[0].h)),\n",
        "                              clips[2].set_pos((0, 210 + 2*clips[0].h)),\n",
        "                              shadow, name \n",
        "                              ])\n",
        "  return result"
      ],
      "metadata": {
        "id": "VfV5QoIlw3CJ"
      },
      "execution_count": null,
      "outputs": []
    },
    {
      "cell_type": "code",
      "source": [
        "# Agrega el nombre a cada clip\n",
        "def text_name(name):\n",
        "  text_name = TextClip(str(name), fontsize = 125 - len(name),\n",
        "                    font='MavenPro-Bold.ttf',\n",
        "                    stroke_width=2, stroke_color = '#141414',\n",
        "                    color = '#EEEEEE',\n",
        "                    method = 'caption', size = (864, 1920),\n",
        "                    kerning=-5, interline=-30, align='east') \n",
        "  text_name = text_name.set_pos((108, -540)).set_duration(6)\n",
        "  text_name = text_name.crossfadein(1)\n",
        "  text_name = text_name.crossfadeout(1)\n",
        "  text_shadow = TextClip(str(name), fontsize = 125 - len(name), \n",
        "                  font='MavenPro-Bold.ttf',\n",
        "                  stroke_width=0, stroke_color = '#111111',\n",
        "                  color = '#343434',\n",
        "                  method = 'caption', size = (864, 1920),\n",
        "                  kerning=-5, interline=-30, align='east') \n",
        "  text_shadow = text_shadow.set_pos((111, -543)).set_duration(6)\n",
        "  text_shadow = text_shadow.crossfadein(1)\n",
        "  text_shadow = text_shadow.crossfadeout(1)\n",
        "  \n",
        "  return  text_name, text_shadow "
      ],
      "metadata": {
        "id": "rfoXEUF8w5tz"
      },
      "execution_count": null,
      "outputs": []
    },
    {
      "cell_type": "code",
      "source": [
        "# Crea el clip en un lienzo, agregando los tres cortes\n",
        "def op_clips(nombre, a, o = 0):\n",
        "  # Carga el vídeo\n",
        "  filenames = os.listdir('ops_clips/')\n",
        "  if str(nombre) + '_clip.mp4' in filenames:\n",
        "    print('Ya tenemos el clip')\n",
        "  else:\n",
        "    print('Generando clip')\n",
        "    clip = VideoFileClip('ops_full/' + str(nombre) + '.mp4').fx(afx.audio_normalize)\n",
        "    \n",
        "    clip = recortar(clip)\n",
        "    clips = clips_x3(clip, a, o)\n",
        "    clips = silenciar(clips) # Mejor 2\n",
        "    result = montar_lienzo(clips, str(nombre))\n",
        "\n",
        "\n",
        "    compression_args = {\n",
        "        'codec': 'libx264',  # Codec de video a utilizar\n",
        "        'bitrate': '2000k',  # Tasa de bits a utilizar\n",
        "        'fps': 30,  # Cuadros por segundo\n",
        "    }\n",
        "\n",
        "\n",
        "    result.write_videofile('ops_clips/' + str(nombre)+'_clip.mp4',\n",
        "                           **compression_args)"
      ],
      "metadata": {
        "id": "2MCaiCdyw-jJ"
      },
      "execution_count": null,
      "outputs": []
    }
  ]
}