{
  "nbformat": 4,
  "nbformat_minor": 0,
  "metadata": {
    "colab": {
      "provenance": [],
      "collapsed_sections": [
        "0oaV69iaTiC_",
        "bzOMqbshUkck",
        "NG_eYW29Z-Ko",
        "IkeNSNbahS1Q",
        "1RqyiLRPluFm",
        "r0jnE0zqrGwM",
        "lYo71E3WrMiL",
        "2wv-m8-3tUta",
        "-1MZqIzqwc5E",
        "K_YwM-ojxGeC",
        "j2pFu83nyDSG"
      ],
      "authorship_tag": "ABX9TyM5lvJMT8DKcUwK6+A51wWN",
      "include_colab_link": true
    },
    "kernelspec": {
      "name": "python3",
      "display_name": "Python 3"
    },
    "language_info": {
      "name": "python"
    }
  },
  "cells": [
    {
      "cell_type": "markdown",
      "metadata": {
        "id": "view-in-github",
        "colab_type": "text"
      },
      "source": [
        "<a href=\"https://colab.research.google.com/github/Cseudave/automatic_tops/blob/main/02_1_Clasificaci%C3%B3n_con_NLP.ipynb\" target=\"_parent\"><img src=\"https://colab.research.google.com/assets/colab-badge.svg\" alt=\"Open In Colab\"/></a>"
      ]
    },
    {
      "cell_type": "markdown",
      "source": [
        "# Clasificando las series"
      ],
      "metadata": {
        "id": "nluqic0khdd4"
      }
    },
    {
      "cell_type": "markdown",
      "source": [
        "## Clasificando con NLP"
      ],
      "metadata": {
        "id": "IkeNSNbahS1Q"
      }
    },
    {
      "cell_type": "markdown",
      "source": [
        "Existe diferentes librerias de procesamiento de lenguaje natural que pueden darnos un valor de la cercanía entre dos palabras. Como la función similarity de spacy. \n",
        "\n",
        "Debido a que las etiquetas en anidb están en inglés, serán mejores que las de español, debido a que es mejor el modelo en inglés de spacy."
      ],
      "metadata": {
        "id": "cOwEFkb1hghQ"
      }
    },
    {
      "cell_type": "code",
      "source": [
        "# Instalamos spacy y cargamos el modelo en inglés\n",
        "!pip show spacy\n",
        "!python -m spacy download en_core_web_sm"
      ],
      "metadata": {
        "id": "yu8Oq0BKjYdI"
      },
      "execution_count": null,
      "outputs": []
    },
    {
      "cell_type": "code",
      "source": [
        "import spacy"
      ],
      "metadata": {
        "id": "s8kzplXihY1G"
      },
      "execution_count": null,
      "outputs": []
    },
    {
      "cell_type": "code",
      "source": [
        "# Recibimos una base de datos y tomamos parámetros de interes\n",
        "# Acomodamos el formato y usamos spacy para obtener valores por género y tag\n",
        "# Como son pruebas solo imprimirá los resultados\n",
        "\n",
        "def rank_genre(anidat):\n",
        "\n",
        "  dat = []\n",
        "\n",
        "  print(anidat['name'])\n",
        "  tags = anidat['Tags']\n",
        "  status = anidat['Status Distribution']\n",
        "  social = anidat['Social']\n",
        "\n",
        "  genres = anidat['Genres']\n",
        "  average = anidat['Average Score']\n",
        "  score = anidat['Mean Score']\n",
        "  popularity = anidat['Popularity']\n",
        "  fans = anidat['Favorites']\n",
        "\n",
        "  tags = [(x, int(y.replace('%',''))) for x, y in zip(tags[::2], tags[1::2])]\n",
        "  status = [(x, int(y.replace('Users',''))) for x, y in zip(status[::2], status[1::2])]\n",
        "  # highest = social[0].split(' ')[0].replace('#', '')\n",
        "  # most = social[1].split(' ')[0].replace('#', '')\n",
        "\n",
        "  \n",
        "  for genre in genres:\n",
        "    stat_genre = 1\n",
        "    genre = nlp(genre)\n",
        "    for i in range(len(tags)):\n",
        "      tag = nlp(tags[i][0])\n",
        "      #print(f'{genre} with {tags[i][0]}')\n",
        "      similarity = genre.similarity(tag)\n",
        "      stat_genre += similarity\n",
        "    print(genre, stat_genre/len(tags))\n",
        "  return "
      ],
      "metadata": {
        "id": "N3I2wZu-iiZY"
      },
      "execution_count": null,
      "outputs": []
    },
    {
      "cell_type": "markdown",
      "source": [
        "Después de algunas pruebas, los coeficientes obtenidos no reflejan la cercanía deseada entre los géneros y las etiquetas, por lo que se necesita una mejor manera de clasificar. "
      ],
      "metadata": {
        "id": "R1b0WDRyjv44"
      }
    }
  ]
}
