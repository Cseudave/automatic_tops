{
  "nbformat": 4,
  "nbformat_minor": 0,
  "metadata": {
    "colab": {
      "provenance": [],
      "collapsed_sections": [
        "0oaV69iaTiC_",
        "bzOMqbshUkck",
        "NG_eYW29Z-Ko",
        "IkeNSNbahS1Q",
        "1RqyiLRPluFm",
        "r0jnE0zqrGwM",
        "lYo71E3WrMiL",
        "2wv-m8-3tUta",
        "-1MZqIzqwc5E",
        "K_YwM-ojxGeC",
        "j2pFu83nyDSG"
      ],
      "authorship_tag": "ABX9TyORqz0w4Kz5H8fA7oP8xTif",
      "include_colab_link": true
    },
    "kernelspec": {
      "name": "python3",
      "display_name": "Python 3"
    },
    "language_info": {
      "name": "python"
    }
  },
  "cells": [
    {
      "cell_type": "markdown",
      "metadata": {
        "id": "view-in-github",
        "colab_type": "text"
      },
      "source": [
        "<a href=\"https://colab.research.google.com/github/Cseudave/automatic_tops/blob/main/08_Convertir_clips_a_video_corto.ipynb\" target=\"_parent\"><img src=\"https://colab.research.google.com/assets/colab-badge.svg\" alt=\"Open In Colab\"/></a>"
      ]
    },
    {
      "cell_type": "markdown",
      "source": [
        "# Crear los videos cortos"
      ],
      "metadata": {
        "id": "5gBEMIi1p_TV"
      }
    },
    {
      "cell_type": "markdown",
      "source": [
        "MoviePy es una excelente librería que permite trabajar con videos usando python. Aunque no está optimizada para utilizar tarjetas gráficas, será muy útil.  "
      ],
      "metadata": {
        "id": "owF6cTi4qgJu"
      }
    },
    {
      "cell_type": "markdown",
      "source": [
        "## Instalar librerías necesarias"
      ],
      "metadata": {
        "id": "r0jnE0zqrGwM"
      }
    },
    {
      "cell_type": "code",
      "source": [
        "# Instalamos librerías\n",
        "!pip install google-api-python-client\n",
        "!pip install pytube\n",
        "\n",
        "!pip install moviepy\n",
        "!pip install imageio-ffmpeg \n",
        "!pip install imageio\n",
        "!apt install imagemagick\n",
        "\n",
        "!pip install IPython\n",
        "!pip install mpld3 \n",
        "\n",
        "!pip install fuzzywuzzy\n",
        "\n",
        "!pip install playsound"
      ],
      "metadata": {
        "id": "k567T-Hyp-W1"
      },
      "execution_count": null,
      "outputs": []
    },
    {
      "cell_type": "code",
      "source": [
        "# Actulizamos librerías\n",
        "!pip install --upgrade imageio-ffmpeg\n",
        "!pip install --upgrade moviepy \n",
        "!pip install --upgrade imageio\n",
        "!pip install --upgrade ffmpeg"
      ],
      "metadata": {
        "id": "keYru7rUq0kf"
      },
      "execution_count": null,
      "outputs": []
    },
    {
      "cell_type": "code",
      "source": [
        "# Configuración adicional para trabajar con texto en movipy usando ImageMagick\n",
        "!cat /etc/ImageMagick-6/policy.xml | sed 's/none/read,write/g'> /etc/ImageMagick-6/policy.xml"
      ],
      "metadata": {
        "id": "IcRC4lTLq4Kf"
      },
      "execution_count": null,
      "outputs": []
    },
    {
      "cell_type": "code",
      "source": [
        "# Importamos librerías\n",
        "from apiclient.discovery import build\n",
        "from pytube import YouTube\n",
        "import os \n",
        "import time\n",
        "from bs4 import BeautifulSoup\n",
        "\n",
        "import re\n",
        "import numpy as np\n",
        "from numpy import arange\n",
        "import pandas as pd\n",
        "import matplotlib.pyplot as plt\n",
        "\n",
        "import csv\n",
        "\n",
        "from IPython.core.display import HTML\n",
        "import mpld3 \n",
        "from scipy.stats import moment\n",
        "from moviepy.editor import *\n",
        "\n",
        "import os \n",
        "\n",
        "from moviepy.audio.AudioClip import concatenate_audioclips\n",
        "from moviepy.editor import concatenate_videoclips\n",
        "from moviepy.editor import VideoFileClip\n",
        "from moviepy.editor import ColorClip\n",
        "from moviepy.editor import CompositeVideoClip\n",
        "from moviepy.editor import *\n",
        "\n",
        "from IPython.display import Audio\n",
        "from datetime import datetime"
      ],
      "metadata": {
        "id": "BUIgEuzErB64"
      },
      "execution_count": null,
      "outputs": []
    },
    {
      "cell_type": "markdown",
      "source": [
        "## Clips a video short"
      ],
      "metadata": {
        "id": "K_YwM-ojxGeC"
      }
    },
    {
      "cell_type": "code",
      "source": [
        "def composicion(clip2, clip1 = 0, t=4, text_top='', text_user='', lista =[]):\n",
        "  if clip1 == 0:\n",
        "    clip1 = VideoFileClip('ops_templates/Intro.mp4')\n",
        "    clip1 = text_intro(clip1, text_top, text_user, lista)\n",
        "  clip = CompositeVideoClip([clip1, clip2.set_start(clip1.duration - t)])\n",
        "  return clip"
      ],
      "metadata": {
        "id": "n5dP0mdRxId8"
      },
      "execution_count": null,
      "outputs": []
    },
    {
      "cell_type": "code",
      "source": [
        "# Toma la lista de animes para el top y busca los clips\n",
        "def list_clips(top):\n",
        "    clips = []\n",
        "    print(len(top))\n",
        "    for i in range(len(top) - 1, -1, -1):\n",
        "      video = VideoFileClip('ops_clips/' + str(top[i]) + '_clip.mp4') \n",
        "      #video = text_position(clip,str(i + 1))\n",
        "      #video = text_number(clip, i + 1)\n",
        "      video = video.crossfadein(2)\n",
        "      video = video.crossfadeout(1.5)\n",
        "      video= video.audio_fadein(2)\n",
        "      video= video.audio_fadeout(1.5)\n",
        "      clips.append(video)\n",
        "    return clips"
      ],
      "metadata": {
        "id": "tMe37A3txPuJ"
      },
      "execution_count": null,
      "outputs": []
    },
    {
      "cell_type": "code",
      "source": [
        "# Agrega el número de la posición en cada caso usando plantillas\n",
        "def text_number(clip, n):\n",
        "  img = ImageClip('ops_templates/transparented/t' + str(n) + '.png')\n",
        "  img = img.set_duration(6.0)\n",
        "  img = img.crossfadein(1)\n",
        "  img = img.crossfadeout(2)\n",
        "  canvas = ColorClip((1080, 1920), color=(255, 255, 255))\n",
        "# clip_fondo = ColorClip((img.shape[0], img.shape[1]), color=(0, 0, 0), duration=10)\n",
        "\n",
        "  # Crear el lienzo combinando los clips\n",
        "  final_clip = CompositeVideoClip([\n",
        "      canvas.subclip(t_start=0, t_end=clip.duration),\n",
        "      clip,\n",
        "      img.set_pos((0,0))])\n",
        "  return final_clip"
      ],
      "metadata": {
        "id": "nZ8s4jgVxXN0"
      },
      "execution_count": null,
      "outputs": []
    },
    {
      "cell_type": "code",
      "source": [
        "#Agrega el intro y la salida según el idioma deseado\n",
        "\n",
        "def intro_end(top, name_top, name_user, lang='es'):\n",
        "  \n",
        "  top = VideoFileClip('tops_hechos/' + str(top) + '.mp4')\n",
        "  intro = VideoFileClip('ops_templates/Intro.mp4')\n",
        "  button = VideoFileClip('ops_templates/buttonOK.mp4')\n",
        "\n",
        "  if lang == 'es':\n",
        "    salida = VideoFileClip('ops_templates/salida_es.mp4')\n",
        "  elif lang == 'en':\n",
        "    salida = VideoFileClip('ops_templates/salida_en.mp4')\n",
        "  else:\n",
        "    print('Lenguaje no reconocido')\n",
        "\n",
        "  intro = intro.crossfadeout(0.5)\n",
        "  salida = salida.crossfadein(1)\n",
        "  top = top.crossfadein(1)\n",
        "  t = top.duration\n",
        "\n",
        "\n",
        "  if len(name_top) > 20:\n",
        "    size_top = 110 - (len(name_top) - 20)\n",
        "  else:\n",
        "    size_top = 110\n",
        "\n",
        "  if len(name_user) > 10:\n",
        "    size_user = 90 - (len(name_user) - 12)\n",
        "  else:\n",
        "    size_user = 80\n",
        "\n",
        "\n",
        "  text_top1 = TextClip(str(name_top), fontsize = size_top, \n",
        "                      font='MavenPro-Bold.ttf',\n",
        "                      stroke_width=2, stroke_color = '#999999',\n",
        "                      color = '#E6E6E6',\n",
        "                      method = 'caption', size = (1000, 1920),\n",
        "                      kerning=-5, interline=-20, align='center') \n",
        "  #stroke_color = '#7A9C99'\n",
        "\n",
        "  text_top1 = text_top1.set_pos((40, -860)).set_duration(t)\n",
        "  text_top1 = text_top1.set_start(0)\n",
        "  text_top1 = text_top1.crossfadeout(0.5)\n",
        "\n",
        "  text_user1 = TextClip(str(name_user), fontsize = size_user, \n",
        "                        font='MavenPro-Bold.ttf',\n",
        "                        stroke_width=2, stroke_color = '#999999',\n",
        "                        color = '#E6E6E6',\n",
        "                        method = 'caption', size = (500, 1980),\n",
        "                        kerning=-5, interline=-20, align='East')\n",
        "    \n",
        "  text_user1 = text_user1.set_pos((540, 820)).set_duration(t) \n",
        "  text_user1 = text_user1.set_start(0)\n",
        "  text_user1 = text_user1.crossfadeout(0.5)\n",
        "\n",
        "  button = button.set_duration(4)\n",
        "  button = button.crossfadein(0.5)\n",
        "  button = button.crossfadeout(0.5)\n",
        "\n",
        "\n",
        "  result = CompositeVideoClip([intro,\n",
        "                              top.set_start(intro.duration - 1.5),\n",
        "                              text_top1, text_user1,\n",
        "                              button.set_start(t//3), button.set_start(2*t//3),\n",
        "                              salida.set_start(top.duration),\n",
        "                              button.set_start(t).set_pos((0, 1710))\n",
        "                              ])\n",
        "  \n",
        "\n",
        "\n",
        "  compression_args = {\n",
        "    'codec': 'libx264',  # Codec de video a utilizar\n",
        "    'bitrate': '2000k',  # Tasa de bits a utilizar\n",
        "    'fps': 30,  # Cuadros por segundo\n",
        "      }\n",
        "\n",
        "  # result.save_frame('tops_hechos/' + str(name_top) +' - ' \n",
        "  #                 + str(name_user) + '_' + str(lang) + '.png', t=0)\n",
        "\n",
        "\n",
        "  result.write_videofile('tops_hechos/Publicar/' + str(name_top) +' - ' + \n",
        "                         str(name_user) +'_' + str(lang) + '.mp4',\n",
        "                          **compression_args)\n",
        "  \n",
        "\n",
        "  top.close()\n",
        "  intro.close()\n",
        "  salida.close()\n",
        "  \n",
        "  return result"
      ],
      "metadata": {
        "id": "Gq2OgL9Oxira"
      },
      "execution_count": null,
      "outputs": []
    },
    {
      "cell_type": "code",
      "source": [
        "# Función tentativa para agregar los géneros durante cada clip\n",
        "def genre(video, generos, score = 0):\n",
        "  colors = ['#B8BFBF', '#IF8FFD', '#7C0IFD', '#FFCD3C']\n",
        "  genre_clips = TextClip('Generos:', fontsize = 120*(1 + score/10), \n",
        "                        font='MavenPro-Bold.ttf',\n",
        "                        stroke_width=3, stroke_color = '#EEEEEE',\n",
        "                        color = colors[score],\n",
        "                        method = 'caption', size = (864, 1920),\n",
        "                        kerning=-5, interline=-20, align='East') \n",
        "  genre_clips = genre_clips.set_pos((108, -770)).set_duration(0.5)\n",
        "  genre_clips = genre_clips.crossfadein(0.25)\n",
        "\n",
        "  for genero in generos:\n",
        "\n",
        "    text_genre = TextClip(str(genero).upper(), fontsize = 120*(1 + score/10), \n",
        "                        font='MavenPro-Bold.ttf',\n",
        "                        stroke_width=3, stroke_color = '#EEEEEE',\n",
        "                        color = colors[score],\n",
        "                        method = 'caption', size = (864, 1920),\n",
        "                        kerning=-5, interline=-20, align='East') \n",
        "    text_genre = text_genre.set_pos((0, -770)).set_duration(1.5)\n",
        "    text_genre = text_genre.crossfadein(0.5)\n",
        "    genre_clips =  CompositeVideoClip([genre_clips, text_genre.set_start((genre_clips.duration))])\n",
        "\n",
        "  intro =  CompositeVideoClip([intro, genre_clips])\n",
        "  \n",
        "  return intro"
      ],
      "metadata": {
        "id": "SA0C5Je4xoHI"
      },
      "execution_count": null,
      "outputs": []
    },
    {
      "cell_type": "code",
      "source": [
        "# Agrega la posición usando texto\n",
        "def text_position(positions):\n",
        "\n",
        "  texts_name = []\n",
        "  texts_shadow = []\n",
        "  texts_shadow2 = []\n",
        "\n",
        "  for position in range(positions, -1, -1):\n",
        "    text_name = TextClip(str(position), fontsize = 600, \n",
        "                      font='theater.bold-condensed.ttf',\n",
        "                      stroke_width=3, stroke_color = '#141414',\n",
        "                      color = '#D4D4D4',\n",
        "                      method = 'caption', size = (864, 1920),\n",
        "                      kerning=-20, interline=-30, align='West')\n",
        "    \n",
        "\n",
        "    text_name = text_name.set_pos((55, 730)).set_duration(5)\n",
        "    text_name = text_name.crossfadein(1) \n",
        "    text_name = text_name.crossfadeout(1)\n",
        "\n",
        "    text_shadow = TextClip(str(position), fontsize = 600, \n",
        "                    font='theater.bold-condensed.ttf',\n",
        "                    stroke_width=0, stroke_color = '#111111',\n",
        "                    color = '#343434',\n",
        "                    method = 'caption', size = (864, 1920),\n",
        "                    kerning=-20, interline=-30, align='West') \n",
        "\n",
        "    text_shadow = text_shadow.set_pos((75, 740)).set_duration(5)\n",
        "    text_shadow = text_shadow.crossfadein(1)\n",
        "    text_shadow = text_shadow.crossfadeout(1)\n",
        "\n",
        "\n",
        "    text_shadow2 = TextClip(str(position), fontsize = 600, \n",
        "                  font='theater.bold-condensed.ttf',\n",
        "                  stroke_width=0, stroke_color = '#111111',\n",
        "                  color = '#141414',\n",
        "                  method = 'caption', size = (864, 1920),\n",
        "                  kerning=-20, interline=-30, align='West')\n",
        "\n",
        "    text_shadow2 = text_shadow2.set_pos((50, 725)).set_duration(5)\n",
        "    text_shadow2 = text_shadow2.crossfadein(1) \n",
        "    text_shadow2 = text_shadow2.crossfadeout(1)\n",
        "    \n",
        "    texts_name.append(text_name)\n",
        "    texts_shadow.append(text_shadow)\n",
        "    texts_shadow2.append(text_shadow2)   \n",
        "\n",
        "  return  texts_name, texts_shadow, texts_shadow2"
      ],
      "metadata": {
        "id": "khCj-Ompx0RF"
      },
      "execution_count": null,
      "outputs": []
    },
    {
      "cell_type": "code",
      "source": [
        "# Construye el video top con los clips\n",
        "def clips_top(lista, name='', t=3):\n",
        "\n",
        "  clips = list_clips(lista)\n",
        "  names, shadows, shadows2 = text_position(len(lista))\n",
        "\n",
        "  img = ImageClip('ops_templates/tbase.png')\n",
        "\n",
        "  img = img.set_duration(5)\n",
        "  img = img.crossfadein(1)\n",
        "  img = img.crossfadeout(1)\n",
        "\n",
        "  time = clips[0].duration - t\n",
        "  delay = 1.5\n",
        "  all = []\n",
        "  for i in range(len(clips)):\n",
        "    all.append(clips[i].set_start(i*time))\n",
        "    all.append(shadows[i].set_start(i*time + delay))\n",
        "    all.append(img.set_start(i*time + delay))\n",
        "    all.append(shadows2[i].set_start(i*time + delay))\n",
        "    all.append(names[i].set_start(i*time + delay))\n",
        " \n",
        "  result = CompositeVideoClip(all)\n",
        "\n",
        "  if name == '':\n",
        "    now = datetime.now()\n",
        "    titulo = str(now.strftime(\"%Y-%m-%d %H:%M:%S\")) \n",
        "  else:\n",
        "    titulo = str(name)\n",
        "\n",
        "  compression_args = {\n",
        "      'codec': 'libx264',  # Codec de video a utilizar\n",
        "      'bitrate': '2000k',  # Tasa de bits a utilizar\n",
        "      'fps': 30,  # Cuadros por segundo\n",
        "  }\n",
        "\n",
        "\n",
        "  result.write_videofile('tops_hechos/' + str(titulo) + '.mp4',\n",
        "                          **compression_args)\n",
        "  print(str(titulo) + '.mp4')\n",
        "  for clip in clips:\n",
        "    clip.close()\n",
        "\n",
        "  return result"
      ],
      "metadata": {
        "id": "_e0ILV4cx4rG"
      },
      "execution_count": null,
      "outputs": []
    }
  ]
}