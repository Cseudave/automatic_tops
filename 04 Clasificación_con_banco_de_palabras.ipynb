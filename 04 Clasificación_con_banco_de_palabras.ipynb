{
  "nbformat": 4,
  "nbformat_minor": 0,
  "metadata": {
    "colab": {
      "provenance": [],
      "collapsed_sections": [
        "0oaV69iaTiC_",
        "bzOMqbshUkck",
        "NG_eYW29Z-Ko",
        "IkeNSNbahS1Q",
        "1RqyiLRPluFm",
        "r0jnE0zqrGwM",
        "lYo71E3WrMiL",
        "2wv-m8-3tUta",
        "-1MZqIzqwc5E",
        "K_YwM-ojxGeC",
        "j2pFu83nyDSG"
      ],
      "authorship_tag": "ABX9TyOcuBp+lpcoispoJ5eW9KdI",
      "include_colab_link": true
    },
    "kernelspec": {
      "name": "python3",
      "display_name": "Python 3"
    },
    "language_info": {
      "name": "python"
    }
  },
  "cells": [
    {
      "cell_type": "markdown",
      "metadata": {
        "id": "view-in-github",
        "colab_type": "text"
      },
      "source": [
        "<a href=\"https://colab.research.google.com/github/Cseudave/automatic_tops/blob/main/Clasificaci%C3%B3n_con_banco_de_palabras.ipynb\" target=\"_parent\"><img src=\"https://colab.research.google.com/assets/colab-badge.svg\" alt=\"Open In Colab\"/></a>"
      ]
    },
    {
      "cell_type": "markdown",
      "source": [
        "# Clasificando las series"
      ],
      "metadata": {
        "id": "nluqic0khdd4"
      }
    },
    {
      "cell_type": "markdown",
      "source": [
        "## Clasificando con banco de palabras"
      ],
      "metadata": {
        "id": "M0nkRTdBkcqn"
      }
    },
    {
      "cell_type": "markdown",
      "source": [
        "La mayoría de las etiquetas están asociadas a un género específico. En tal caso basta con hacer un diccionario que guarde cuáles etiquetas son para cada género. Así podemos calificar que tan asociada es una serie según todas sus etiquetas "
      ],
      "metadata": {
        "id": "lMC5MBOvkflf"
      }
    },
    {
      "cell_type": "code",
      "source": [
        "anidb = pd.read_csv('db22.csv')"
      ],
      "metadata": {
        "id": "gxNYdxxYldpY"
      },
      "execution_count": null,
      "outputs": []
    },
    {
      "cell_type": "code",
      "source": [
        "# Importamos Itertool para pasar los strings de al base de datos a lista\n",
        "import itertools\n",
        "import collections"
      ],
      "metadata": {
        "id": "UuytWCxMjAIg"
      },
      "execution_count": null,
      "outputs": []
    },
    {
      "cell_type": "code",
      "source": [
        "# Formateado de los strings a listas manualmente\n",
        "genres = list(anidb['genre'])\n",
        "g = genres[0].replace(\"]'\", \"\").replace(\"[\",\"\").replace(\"'\", \"\").split(',')\n",
        "all_genre = [g.replace(\"]'\", \"\").replace(\"[\",\"\").replace(\"'\", \"\").split(',')\n",
        "              for g in genres]\n",
        "\n",
        "# Conteo de la frecuencia de cada género\n",
        "all_genre = [elemento.lstrip() for sublista in all_genre for elemento in sublista]\n",
        "count_genre = collections.Counter(all_genre)\n",
        "# Lista ordenada\n",
        "sorted_count_genre_anidb = sorted(count_genre.items(), key = lambda x: x[1], reverse=True)"
      ],
      "metadata": {
        "id": "j3MMjhqgi1kc"
      },
      "execution_count": null,
      "outputs": []
    },
    {
      "cell_type": "code",
      "source": [
        "# Conteo de etiquetas más frecuentes\n",
        "cuenta = []\n",
        "for tags in all_tags:\n",
        "  cuenta.append(list(tags_score(tags).keys()))\n",
        "count_tags = [elemento.lstrip() for sublista in cuenta for elemento in sublista]\n",
        "count_tags = collections.Counter(count_tags)\n",
        "sorted_count_tags_anilist = sorted(count_tags.items(), key = lambda x: x[1], reverse=True)\n"
      ],
      "metadata": {
        "id": "qvAA9qFolh-i"
      },
      "execution_count": null,
      "outputs": []
    },
    {
      "cell_type": "markdown",
      "source": [
        "### Usando un árbol de etiquetas por género"
      ],
      "metadata": {
        "id": "1RqyiLRPluFm"
      }
    },
    {
      "cell_type": "markdown",
      "source": [
        "En anidb las listas de etiquetas se encuentran debajo de su clasificación de etiquetas, así que se puede encontrar esto directamente."
      ],
      "metadata": {
        "id": "07486gYxl2qm"
      }
    },
    {
      "cell_type": "code",
      "source": [
        "def trees_genre(tree): \n",
        "  prueba = tree.replace('\\n', '').split('·  ·')\n",
        "  dict_tree ={}\n",
        "  key = prueba[0].replace('·','').lstrip()\n",
        "  values = [x.replace('·', '').lstrip() for x in prueba]\n",
        "  # dict_tree[key] = values\n",
        "  return key, values"
      ],
      "metadata": {
        "id": "BDmLziIsltTn"
      },
      "execution_count": null,
      "outputs": []
    },
    {
      "cell_type": "code",
      "source": [
        "forest = {}\n",
        "\n",
        "for tree in trees:\n",
        "  key, values = trees_genre(tree)\n",
        "  forest[key] = values"
      ],
      "metadata": {
        "id": "D7kEpWUOmDsV"
      },
      "execution_count": null,
      "outputs": []
    },
    {
      "cell_type": "code",
      "source": [
        "trees = []\n",
        "# fantasy, comedy, action, romance, violence\n",
        "# Science fiction, school life\n",
        "# game, tragedy, daily life, \n",
        "# magic, superpowers, mecha\n",
        "# adventure\n",
        "\n",
        "# sports, military, martial arts, music\n",
        "# harem\n",
        "# stereotypes\n",
        "# manga, novel, videogame\n",
        "# shounen, seinen, "
      ],
      "metadata": {
        "id": "bDD6IgKJmGWX"
      },
      "execution_count": null,
      "outputs": []
    },
    {
      "cell_type": "code",
      "source": [
        "import json\n",
        "\n",
        "with open('forest_genres.json', 'w') as f:\n",
        "  json.dump(forest, f)"
      ],
      "metadata": {
        "id": "QS7AVETlmIm2"
      },
      "execution_count": null,
      "outputs": []
    },
    {
      "cell_type": "markdown",
      "source": [
        "Una vez encontrados los géneros posibles se crea un diccionario donde se le relaciona posibles etiquetas"
      ],
      "metadata": {
        "id": "ADG04rjqmKwP"
      }
    },
    {
      "cell_type": "code",
      "source": [
        "db_tags={\n",
        "'nudity': ['nudity'],\n",
        "'violence': ['violence', 'animal abuse', 'gore', 'mutilation','deathdeath is cheap', 'delayed death', 'everybody dies', 'human sacrifice', 'murder', 'genocide', 'massacre', 'parricide', 'suicide', 'group suicide', 'diet'],\n",
        "'cliche': ['stereotypes', 'damsel in distress', 'calling your attacks'],\n",
        "'action': ['action', 'air combat', 'battle royale', 'bloodless wounds', 'bullet time', 'calling your attacks', 'car chases', 'collateral damage', 'fighting', 'street fighting', 'gunfights', 'Itano circus', 'martial arts', 'cultivation', 'ninja', 'wuxia', 'sea battles', 'space battles', 'swordplay', 'samurai', 'adoring fan club'],\n",
        "'adventure': ['adventure', 'gotta catch them all', 'journey', 'treasure hunting'],\n",
        "'furry': ['anthropomorphism', 'animal world'],\n",
        "'comedy': ['comedy', 'penis jokes', 'flat chest jokes', 'absurdist humour', 'black humour', 'facial distortion', 'funny expressions', 'medium awareness', 'parody', 'self-parody', 'running gag', 'satire', 'slapstick', 'catastrophic gadgets', 'German suplex', 'horny nosebleed', 'hyperspace mallet', 'lethal chef', 'violent retribution for accidental infringement', 'super deformed', 'toilet humour', 'wealth-related humour', 'wordplay'],\n",
        "'ecchi': ['ecchi', 'borderline porn', 'breast fondling', 'French kiss', 'Gainax bounce', 'lingerie', 'pantsu', 'paper clothes', 'sexual fantasies', 'skimpy clothing', 'sudden naked girl appearance', 'sudden naked guy appearance', 'wardrobe malfunction'],\n",
        "'magical' :['juujin', 'magical boy', 'magical girl', 'magical realism', 'manipulated memories'],\n",
        "'dramatic': ['melodrama', 'tragedy', 'angst', 'violence','seinen' ],\n",
        "'mystery': ['triller', 'thriller', 'mystery', 'detective', 'tragedy', 'seinen', 'conspiracy', 'crime', 'amnesia', 'betrayal'],\n",
        "'reverse harem':['reverse harem'],\n",
        "'harem': ['harem'],\n",
        "'romance':['romance', 'lost love', 'love letter', 'reverse harem', 'harem', 'age difference romance', 'older female younger male', 'boy meets girl', 'engaged to an alien', 'fake relationship', 'first love', 'forbidden love', 'group love', 'love at first sight', 'love between enemies', 'love polygon', 'multiple couples', 'shoujo ai', 'shounen ai', 'slow when it comes to love', 'sudden girlfriend appearance', 'teacher x student', 'unrequited love', 'unrequited shoujo ai', 'unrequited shounen ai'],\n",
        "'fantasy': ['fantasy', 'angel', 'contemporary fantasy', 'dark fantasy', 'deity', 'demon', 'succubus', 'dragon', 'elf', 'dark elf', 'exorcism', 'fairy', 'gaslamp fantasy', 'goblin', 'high fantasy', 'magic', 'magic circles', 'magic school', 'magic weapons', 'spellcasting', 'summoning', 'mermaid', 'science and magic coexist', 'undead', 'ghost', 'zashiki-warashi', 'vampire', 'zombie'],\n",
        "'magic': ['magic', 'magic circles', 'magic school', 'magic weapons', 'spellcasting', 'summoning'],\n",
        "'horror': ['horror', 'giant insects', 'eating of humans', 'human cannibalism', 'insects of doom', 'inverted gravity', 'out-of-place artefact'],\n",
        "'science fiction': ['science fiction', 'alien', 'alien invasion', 'faceless alien invasion', 'aliens living on Earth', 'humanoid alien', 'symbiotic aliens', 'ancient aliens', 'artificial intelligence', 'Asimov`s Three Laws of Robotics', 'biopunk', 'cyberpunk', 'dieselpunk', 'Do Androids Dream of Electric Sheep?', 'hard science fiction', 'human enhancement', 'cyborg', 'genetic modification', 'human experimentation', 'mecha', 'organic mecha', 'power suit', 'robot', 'android', 'human-android love', 'human-replacement robots', 'piloted robot', 'real robot', 'robot helper', 'super robot', 'transforming craft', 'gattai', 'nanomachines', 'organism cloning', 'soft science fiction', 'space exploration', 'space monsters', 'space Nazis', 'space opera', 'space pirates', 'space travel', 'faster-than-light travel', 'space western', 'steampunk', 'terraforming', 'the lives of mini-people', 'time travel', 'person from the past', 'time machine'],\n",
        "'mecha': ['mecha', 'organic mecha', 'power suit', 'robot', 'android', 'human-android love', 'human-replacement robots', 'piloted robot', 'real robot', 'robot helper', 'super robot'],\n",
        "'super power': ['super power', 'emotions awaken superpowers', 'extrasensory perception', 'superhero', 'thriller', 'torture', 'tragedy'],\n",
        "'fetishes':  ['fetishesbishoujo', 'bishounen', 'breastsbreast expansion', 'gigantic breasts', 'huge breasts', 'large breasts', 'medium breasts', 'small breasts', 'cross-dressing', 'reverse trap', 'trap', 'dark-skinned girl', 'deflowering', 'eyeball licking', 'female student', 'female teacher', 'foot fetish', 'futanari', 'guro', 'housewives', 'loli', 'maid', 'nun', 'nurse', 'nyotaimori', 'office lady', 'shota', 'tentacle', 'mechanical tentacle', 'uniform fetish', 'waitress'],\n",
        "'historival': ['past', 'alternative past', 'historical', '1920s', '1960s', 'Asuka period', 'Bakumatsu - Meiji Period', 'Cold War', 'French revolution', 'Han dynasty', 'Heian period', 'Kamakura period', 'Muromachi period', 'Nara period', 'Sengoku period', 'Taishou period', 'Three Kingdoms', 'Tokugawa period', 'Victorian period', 'World War I', 'World War II'],\n",
        "'military': ['military', 'war', 'asymmetric warfare', 'biological warfare', 'chemical weapons', 'child soldier', 'civil war', 'guerilla warfare', 'kids in war', 'large-scale war', 'nuclear weapons', 'war-zone realities', 'concentration camp','air force', 'evil military', 'feudal warfare', 'navy', 'tank warfare'],\n",
        "'politics':['politics', 'social commentary', 'ecology', 'economics', 'nationalism', 'pacifism', 'slavery', 'liberation of slaves', 'social media', 'sociocultural evolution', 'secret organisation', 'grandiose displays of wealth', 'poverty', 'unexpected inheritance','social class issues', 'environmentalism', 'global warming', 'man vs nature', 'nature strikes back', 'evolution', 'existentialism','court politics', 'law and order', 'police', 'governmental censorship', 'royal intrigue', 'promise', 'childhood promise', 'propaganda', 'religious propaganda', 'wartime propaganda', 'proxy battles', 'psychoactive drugs', 'put right what once went wrong', 'racism', 'rebellion', 'redemption', 'reintroducing technology'],\n",
        "'isekai' : ['iseaki', 'parallel world', 'fictional location', 'dungeon'],\n",
        "'slice of life': ['family lifedivorce', 'daily life', 'dysfunctional family', 'family values', 'family without father', 'family without mother', 'intact family', 'parental abandonment', 'parenting', 'fashion'],\n",
        "'school life': ['high school', 'school life', 'working life', 'cute girls doing cute things', 'absurdly powerful student council', 'all-boys school', 'all-girls school', 'art school', 'boarding school', 'catholic school', 'cram school', 'delinquent', 'elementary school', 'formerly one-gender school', 'high school', 'middle school', 'preschool', 'school clubs', 'school dormitory', 'school for the rich elite', 'student government', 'university'],\n",
        "'sports' : ['sports', 'acrobatic diving', 'acrobatics', 'American football', 'archery', 'association football', 'badminton', 'baseball', 'basketball', 'bicycling', 'billiards', 'combat', 'boxing', 'judo', 'karate', 'kendo', 'Muay Thai', 'wrestling', 'sumo wrestling', 'competitive beach volleyball', 'croquet', 'dodgeball', 'fishing', 'golf', 'gymnastics', 'horse riding', 'ice skating', 'inline skating', 'lacrosse', 'motorsport', 'drifting', 'formula racing', 'street racing', 'mountaineering', 'Olympics', 'rugby', 'skateboarding', 'skiing', 'soft tennis', 'softball', 'swimming', 'table tennis', 'tennis', 'track and field', 'high jump', 'underwater diving', 'volleyball', 'wheelchair basketball'],\n",
        "'boardgames' : ['board games', 'chess', 'go', 'mahjong', 'shougi', 'bowling', 'card games', 'blackjack', 'karuta', 'koi koi', 'ino-shika-chou', 'poker', 'cheerleading', 'climbing'],\n",
        "'music': ['music', 'fictional sport', 'classical music', 'euro-beat', 'heavy metal music', 'hip-hop', 'idol', 'jazz', 'musical band', 'rock music', 'techno music'],\n",
        "'arts': ['the arts', 'doujin', 'drawing', 'filmmaking', 'literature', 'painting', 'performance', 'dancing', 'ballet', 'belly dance', 'para para', 'yosakoi', 'kabuki', 'photography'],\n",
        "'cute': ['performance', 'cute girls doing cute things', 'friendship'],\n",
        "'idol': [ 'idol', 'moe'], \n",
        "'narrative' : ['deconstruction','storytellingdialogue driven', 'narration', 'talking is a free action', 'walls of text', 'time loop', 'time skip', 'tone changes','happy ending', 'open-ended', 'episodic', 'fast-paced', 'frame story', 'in medias res', 'long time span', 'misleading beginning', 'non-linear', 'perpetual ongoing', 'plot continuity', 'plot twists', 'randomness', 'short story collection', 'slow-paced']\n",
        "}"
      ],
      "metadata": {
        "id": "YRlF4FtFmTH3"
      },
      "execution_count": null,
      "outputs": []
    },
    {
      "cell_type": "code",
      "source": [
        "# Se formatea las estrellas de anidb en números\n",
        "def tags_score(tags):\n",
        "  tags = tags.replace('{','').replace('}','')\n",
        "  tags = tags.split(',')\n",
        "\n",
        "  data = {}\n",
        "  for tag in tags:\n",
        "    elements = tag.replace('\"','').split(':')\n",
        "    try:\n",
        "      key = elements[0].replace(\"'\",\"\").lstrip()\n",
        "      value = elements[1].replace(\"'\",\"\").lstrip()\n",
        "      if value == '':\n",
        "        value = 0\n",
        "      elif value == 'weightless':\n",
        "        value = 1\n",
        "      elif len(value) > 10:\n",
        "        value = 0\n",
        "      else:\n",
        "        valor = value.replace('+', '1').replace('*', '2')\n",
        "        value = sum([int(score) for score in valor])\n",
        "      data[key] = value\n",
        "    except:\n",
        "      None\n",
        "  return data"
      ],
      "metadata": {
        "id": "PgzLktnamXz0"
      },
      "execution_count": null,
      "outputs": []
    },
    {
      "cell_type": "code",
      "source": [
        "# Se toma el elemento enesimo de la base de datos y se califica\n",
        "def score_anidb(anidb, n):\n",
        "  name = anidb['name'][n]\n",
        "  genres = anidb['genre'][n]\n",
        "  tags = anidb['tags'][n]\n",
        "  rating = anidb['rating'][n]\n",
        "  average = anidb['average'][n]\n",
        "\n",
        "  try:\n",
        "    rating = float(rating)\n",
        "  except:\n",
        "    rating = 0\n",
        "  \n",
        "  try:\n",
        "    average = float(average)\n",
        "  except:\n",
        "    average = 0\n",
        "  \n",
        "\n",
        "  if average != 0:\n",
        "    r = (rating + average)/2\n",
        "  elif rating != 0:\n",
        "    r = rating\n",
        "  else:\n",
        "    r = 0\n",
        " \n",
        "  scores = tags_score(tags)\n",
        "  bag = list(scores.keys())\n",
        "  ani_genres = {}\n",
        "  ani_genres['name'] = name\n",
        "  ani_genres['genres'] = genres\n",
        "  ani_genres['rating'] = r\n",
        "  for genre in db_tags:\n",
        "      puntaje = []\n",
        "\n",
        "      for tag in db_tags[genre]:\n",
        "        if tag in scores.keys():\n",
        "          puntaje.append(scores[tag])\n",
        "          try:\n",
        "            bag.remove(tag)\n",
        "          except:\n",
        "            None\n",
        "\n",
        "\n",
        "      for gen in ast.literal_eval(genres):\n",
        "        if gen in db_tags[genre]:\n",
        "          puntaje.append(5)  \n",
        "      try:\n",
        "        ani_genres[genre] = round(sum(puntaje)*r*10)/100\n",
        "      except:\n",
        "        ani_genres[genre] = 0\n",
        "\n",
        "  return ani_genres"
      ],
      "metadata": {
        "id": "usYQo2Dnmh7e"
      },
      "execution_count": null,
      "outputs": []
    },
    {
      "cell_type": "code",
      "source": [
        "# Se califican todos los elementos\n",
        "anidb_scores = []\n",
        "for i in range(0, len(anidb)):\n",
        "  anidb_scores.append(score_anidb(anidb, i))"
      ],
      "metadata": {
        "id": "TqeSHpkSmx_k"
      },
      "execution_count": null,
      "outputs": []
    },
    {
      "cell_type": "code",
      "source": [
        "# Se guardan los resultados\n",
        "db_scores_df = pd.DataFrame(anidb_scores) \n",
        "db_scores_df.to_csv('db_scores22.csv', index=False)\n",
        "db_scores_df.to_excel('db_scores22.xlsx', index=False)"
      ],
      "metadata": {
        "id": "mBx8LeRAm08S"
      },
      "execution_count": null,
      "outputs": []
    },
    {
      "cell_type": "markdown",
      "source": [
        "Después de poner a prueba los resultados, se concluyó que no era lo mejor"
      ],
      "metadata": {
        "id": "psMk9wW7m5uH"
      }
    },
    {
      "cell_type": "markdown",
      "source": [
        "### Calificando con etiquetas de anilist"
      ],
      "metadata": {
        "id": "nu-NOkR3nM5l"
      }
    },
    {
      "cell_type": "markdown",
      "source": [
        "Debido que las etiquetas de anilist poseen un porcentaje más claro, basta con crear la bolsa de etiquetas y refinar el scrpit para encontrar el mejor top"
      ],
      "metadata": {
        "id": "qZ-AYvurnRFe"
      }
    },
    {
      "cell_type": "code",
      "source": [
        "# Cargamos los datos\n",
        "anidat = pd.read_csv('anilist22_raw.csv')"
      ],
      "metadata": {
        "id": "ug845knPnG3y"
      },
      "execution_count": null,
      "outputs": []
    },
    {
      "cell_type": "code",
      "source": [
        "# En caso de necesitar agregar una serie adicional\n",
        "filtro = anidat['name'] == 'Akiba Meido Sensou'\n",
        "anidat2 = anidat[~filtro]\n",
        "anidat = anidat2"
      ],
      "metadata": {
        "id": "Z6afGdwKndQe"
      },
      "execution_count": null,
      "outputs": []
    },
    {
      "cell_type": "code",
      "source": [
        "import itertools\n",
        "import collections"
      ],
      "metadata": {
        "id": "l_bXB9JfnkEH"
      },
      "execution_count": null,
      "outputs": []
    },
    {
      "cell_type": "code",
      "source": [
        "# Tomamos el string con las etiquetas y se formatea\n",
        "import ast\n",
        "def to_tags(tags, n):\n",
        "  #print(anilist['name'].iloc[n])\n",
        "  tag_v = {}\n",
        "  temp = ast.literal_eval(tags.iloc[n])\n",
        "  for x, y in zip(temp[::2], temp[1::2]):\n",
        "    tag_v[x]= int(y.replace('%', ''))\n",
        "  return tag_v"
      ],
      "metadata": {
        "id": "cZ_9Td22nl0p"
      },
      "execution_count": null,
      "outputs": []
    },
    {
      "cell_type": "code",
      "source": [
        "# Bolsa de posibles etiquetas por género\n",
        "ani_tags={\n",
        "#'Nudity': ['Nudity'],\n",
        "'Violence': ['Gore','Torture','Gore', 'Ero Guro', 'Death Game','Denpa'],\n",
        "'Cliche': ['Tsundere','Kuudere','Gyaru','Kemonomimi','Yandere', 'Transgender', 'Chuunibyou', 'Nun', 'Tomboy'],\n",
        "'Action': ['Action', 'Gore', 'Super Power', 'Swordplay', 'Swordplay','Battle Royale', 'Guns','Guns'],\n",
        "'Adventure': ['Adventure', 'Travel', 'Trains', 'Environmental','Ships' ],\n",
        "'Comedy': ['Comedy', 'Slapstick','Parody', 'Surreal Comedy', 'Masochism', 'Rakugo','Satire'],\n",
        "'Ecchi': ['Ecchi','Ecchi', 'Nudity'],\n",
        "'Harem': ['','Female Harem', 'Male Harem', 'Mixed Gender Harem'],\n",
        "'Drama': ['Drama','Survival', 'Bullying', 'Dystopian', 'Suicide', 'Adoption', 'Rehabilitation', 'Revenge',' Primarily Adult Cast', 'Orphan', 'Coming of Age','Homeless', ],\n",
        "'Mystery': ['Mystery', 'Mystery', 'Thriller', 'Thriller', 'Dissociative Identities', 'Amnesia', 'Psychological','Detective'],\n",
        "'Romance': ['Romance',\"Teens' Love\",'Yuri', 'Heterosexual', 'Love Triangle', \"Boys' Love\",'Age Gap', 'Bisexual'],\n",
        "'Fantasy': ['Fantasy',  'Magic', 'Agender', 'Youkai', 'Demons', 'Shapeshifting', 'Necromancy',  'Mythology', 'Alchemy', 'Zombie', 'Witch', 'Werewolf', 'Vampire','Henshin', 'Fairy Tale',  'Cultivation', 'Angels', 'Urban Fantasy', 'Swordplay', 'Succubus', 'Skeleton', 'Mermaid', 'Nekomimi', 'Monster Girl', 'Monster Boy', 'Goblin', 'Ghost', 'Dullahan','Elf', 'Dragons', 'Centaur', 'Chimera', 'Anthropomorphism',],\n",
        "'Mahou Shoujo': ['Mahou Shoujo','Mahou Shoujo','Mahou Shoujo' ],\n",
        "'Magic': ['Magic','Magic','Magic'],\n",
        "'Horror': ['Horror','Body Horror', 'Cosmic Horror'],\n",
        "'Sci-Fi': ['Sci-Fi', 'Time Manipulation', 'Space Opera', 'Cyberpunk', 'Cyborg', 'Space', 'Artificial Intelligence', 'Clone','Mecha', 'Real Robot', 'Super Robot'],\n",
        "'Mecha': ['Mecha', 'Real Robot', 'Super Robot', ],\n",
        "'Supernatural': ['Supernatural', 'Super Power','Superhero', 'Demons', 'Ghost' ],\n",
        "'Historical': ['Historical',],\n",
        "'Military': ['Military','Guns','War','Assassins',  'Military',],\n",
        "'Politics': ['Politics', 'Cult', 'Urban','Drugs','Gangs','Mafia','Yakuza',  'Police', 'Terrorism', 'Philosophy','Slavery', 'Religion','Delinquents','Environmental', 'Drugs', 'Economics', 'Crime', 'Homeless','Dystopian', ],\n",
        "'Isekai' : ['Isekai'],\n",
        "'Slice of Life': ['Slice Of Life','Iyashikei', 'Family Life', 'Agriculture','Found Family', 'Work', 'Office Lady' 'Urban'],\n",
        "'School life': ['School', 'School','School','School','School', 'School','School','School'],\n",
        "'Sports' : ['Sports','Airsoft','Ice Skating', 'Tennis', 'Wrestling', 'Volleyball', 'Table Tennis', 'Swimming',  'Surfing',  'Sumo',' Skateboarding', 'Scuba Diving',  'Rugby', 'Parkour', 'Lacrosse', 'Judo',  'Handball', 'Golf', 'Football', 'Fitness', 'Fishing', 'Fencing', 'Cycling', 'Boxing', 'Cheerleading', 'Basketball', 'Baseball','Badminton', 'Athletics', 'American Football', 'E-Sports',  ],\n",
        "#'Boardgames' : ['','Video Games', 'E-Sports','Gambling', 'Card Battle','Shogi', 'Poker', 'Go',  'Karuta', 'Mahjong',  ],\n",
        "#'Music': ['Music', 'Band', 'Musical'],\n",
        "'Arts': ['','Acting', 'Dancing', 'Calligraphy', 'Writing', 'Rakugo', 'Photography', 'Classic Literature', 'Drawing', 'Fashion'],\n",
        "'Cute': ['Cute Girls Doing Cute Things', 'Cute Boys Doing Cute Things', 'Chibi', 'Primarily Female Cast', 'Cheerleading',  'Maids', 'Nekomimi', 'VTuber'],\n",
        "'Music':['Music', 'Band', 'Musical'],\n",
        "'idol': ['Idol','Idol','Idol','Idol','Idol','Idol'],\n",
        "'Psychological' : ['Philosophy', 'Psychological', 'Cult','Politics', ],\n",
        "'Spokon' : ['School Club', 'Sports'],\n",
        "#'Narrative' : ['Time Skip', ],\n",
        "'Protagonist': ['','Female Protagonist', 'Male Protagonist', 'Ensemble Cast'],\n",
        "'Female Protagonist' : ['Female Protagonist'],\n",
        "'Male Protagonist' : ['Male Protagonist'],\n",
        "'Ensemble Cast' : ['Ensemble Cast'],\n",
        "'Shounen': ['Shounen'], \n",
        "'Shoujo' : ['Shoujo'], \n",
        "'Seinen' : ['Seinen'], \n",
        "'Josei' :  ['Josei'],\n",
        "'Worldbuilding': [ 'Steampunk', 'Dystopian','Post-Apocalyptic','Lost Civilization', 'Space Opera','Alternate Universe','Dystopian'],\n",
        "#'LGBTQ+ Themes':['LGBTQ+ Themes', 'Yuri', \"Boys' Love\",'Yuri', \"Boys' Love\"],\n",
        "'Iyashikei':['Iyashikei']\n",
        "}"
      ],
      "metadata": {
        "id": "pB8DSN2Knq8W"
      },
      "execution_count": null,
      "outputs": []
    },
    {
      "cell_type": "code",
      "source": [
        "# Con base a los datos y la bolsa de etiquetas se califica cada serie por género\n",
        "\n",
        "from numpy.lib.function_base import average\n",
        "from numpy import mean\n",
        "def score_list(ani_tags, anilist, n): \n",
        "  # Toma una lista de etiquetas y las compara con la base de datos anilist\n",
        "  # Primero toma las etiquetas\n",
        "  # Seria bueno que solo lo haga con los nuevos animes\n",
        "  tags = anilist['Tags']\n",
        "  prueba = to_tags(tags, n)\n",
        "  #print(anilist['name'].iloc[n])\n",
        "\n",
        "  score = anilist['Average Score'].iloc[n]\n",
        "  score = score.replace(\"'\",'').replace(']','').replace('[','').replace('%','')\n",
        "  score = int(score)\n",
        "  fav = int(str(anilist['Favorites'].iloc[n]).replace(']','').replace('[','').replace(\"'\",''))\n",
        "  popu = int(str(anilist['Popularity'].iloc[n]).replace(']','').replace('[','').replace(\"'\",''))\n",
        "\n",
        "  status = str(anidat['Status Distribution'].iloc[n]).replace(']','').replace('[','').replace(\"'\",'').replace(\",\",\"\").split(' ')\n",
        "  status_d = {}\n",
        "  status_d[status[0]] = status[1]\n",
        "  status_d[status[3]] = status[4]\n",
        "  status_d[status[6]] = status[7]\n",
        "  status_d[status[9]] = status[10]\n",
        "\n",
        "\n",
        "  # Revisa que tantas etiquetas ponderadas tiene por genero\n",
        "  generos = ast.literal_eval(anilist['Genres'].iloc[n])\n",
        " \n",
        "  test = []\n",
        "  for tag in prueba:\n",
        "    for genre in ani_tags:\n",
        "      if tag in ani_tags[genre]:\n",
        "        test.append([genre, prueba[tag]])\n",
        "  test2 = {}\n",
        "  for genre in test:\n",
        "    if genre[0] not in test2.keys():\n",
        "      test2[genre[0]] =int(genre[1])\n",
        "      p = 1\n",
        "    else:\n",
        "      test2[genre[0]] +=int(genre[1])/p\n",
        "      p += 1\n",
        "  \n",
        "  # Agrega un bonus por correspondencia de género\n",
        "  for gen in generos:\n",
        "    if gen in test2.keys():\n",
        "      test2[gen] +=  500 + test2[gen]\n",
        "    else:\n",
        "      test2[gen] = 500\n",
        "  try:\n",
        "    r = (fav/(int(status_d['Completed']+int(status_d['Current']))))/1.5\n",
        "  except:\n",
        "    r = (fav/popu)/1.5\n",
        "\n",
        "  # Se ponderan las calificaciones con su calificación global\n",
        "  for gen in test2:\n",
        "    test2[gen] = round(r * test2[gen] * (score-40)/100, 2)\n",
        "\n",
        "  # Se agregan datos de cada serie\n",
        "  test2['name'] = anilist['name'].iloc[n]\n",
        "  test2['score'] = score\n",
        "  test2['Native'] = str(anilist['Native'].iloc[n]).replace(']','').replace('[','').replace(\"'\",'')\n",
        "  test2['English'] = str(anilist['English'].iloc[n]).replace(']','').replace('[','').replace(\"'\",'')\n",
        "  test2['Romaji'] = str(anilist['Romaji'].iloc[n]).replace(']','').replace('[','').replace(\"'\",'')\n",
        "  test2['Hashtag'] = str(anilist['Hashtag'].iloc[n]).replace(']','').replace('[','').replace(\"'\",'')\n",
        "  test2['Popularity'] = str(anilist['Popularity'].iloc[n]).replace(']','').replace('[','').replace(\"'\",'')\n",
        "  test2['Season'] = str(anilist['Season'].iloc[n]).replace(']','').replace('[','').replace(\"'\",'')\n",
        "  test2['Favorites'] = str(anilist['Favorites'].iloc[n]).replace(']','').replace('[','').replace(\"'\",'')\n",
        "  test2['Genres'] = str(anilist['Genres'].iloc[n]).replace(']','').replace('[','').replace(\"'\",'')\n",
        "  test2['Tags'] = str(anilist['Tags'].iloc[n]).replace(']','').replace('[','').replace(\"'\",'')\n",
        "\n",
        "\n",
        "  test2['Status Distribution'] = status\n",
        "\n",
        "  # Se crean nuevos campos con base a los datos que se tienen\n",
        "  \n",
        "  try:\n",
        "    addictive = int(status_d['Completed'])/int(status_d['Dropped'])\n",
        "    test2['addictive'] = round(addictive, 2)\n",
        "  except:\n",
        "    test2['addictive'] = 0\n",
        "  try:\n",
        "    indecisive = int(status_d['Planning'])/int(status_d['Completed'])\n",
        "    test2['indecisive'] = round(indecisive, 2)\n",
        "  except:\n",
        "    test2['indecisive'] = 0\n",
        "  try:\n",
        "    forgettable = int(status_d['Dropped'])/int(status_d['Completed'])\n",
        "    test2['forgettable'] = round(forgettable, 2)\n",
        "  except:\n",
        "     test2['forgettable'] = 0\n",
        "  try:\n",
        "    test2['choosed'] = round((int(test2['Favorites'])/(int(status_d['Completed'])+int(status_d['Current'])) *int(test2['score'])), 2)\n",
        "  except:\n",
        "    test2['choosed'] = 0\n",
        "  \n",
        "  test2['genres'] = generos\n",
        "\n",
        "  test2['Prequel'] = 'Prequel' in str(anilist['Relations'].iloc[n])\n",
        "  test2['Sequel'] = 'Sequel' in str(anilist['Relations'].iloc[n])\n",
        "  \n",
        "  test2['NoLoved'] = round(int(test2['Popularity'])/int(test2['Favorites'])*int(test2['score']), 2)\n",
        "  test2['excelent'] = round(int(test2['Favorites'])*int(test2['score']), 2)\n",
        "  test2['loved'] = round((int(test2['Favorites'])/int(test2['Popularity']))*int(test2['score']), 2)\n",
        "\n",
        "\n",
        "  return test2"
      ],
      "metadata": {
        "id": "-_YCzmHQnx8t"
      },
      "execution_count": null,
      "outputs": []
    },
    {
      "cell_type": "code",
      "source": [
        "def anilist_score(ani_tags, anilist, discriminante='TTGL7', esc='TTGL7', status=''):\n",
        "  # Revisara los scores de todos los animes en anilist\n",
        "  anilist_scores = []\n",
        "  for i in range(0, len(anilist)):     \n",
        "    relations = str(anilist['Relations'].iloc[i])\n",
        "    if status in anilist['Status'].iloc[i]:\n",
        "      if esc in relations:\n",
        "        anilist_scores.append(score_list(ani_tags, anilist, i))\n",
        "      elif discriminante in relations:\n",
        "        None\n",
        "      else:\n",
        "        anilist_scores.append(score_list(ani_tags, anilist, i))\n",
        "  return anilist_scores"
      ],
      "metadata": {
        "id": "uekNeDudoVP2"
      },
      "execution_count": null,
      "outputs": []
    },
    {
      "cell_type": "code",
      "source": [
        "# Se personaliza el orden de las columnas\n",
        "columns = list(ani_tags.keys())\n",
        "columns.insert(0, 'name')\n",
        "columns.insert(1, 'score')\n",
        "columns.insert(2, 'Native')\n",
        "columns.insert(3, 'Romaji')\n",
        "columns.insert(4, 'English')\n",
        "columns.insert(5, 'Hashtag')\n",
        "columns.insert(6, 'Season')\n",
        "columns.insert(7, 'Favorites')\n",
        "columns.insert(8, 'Popularity')\n",
        "columns.insert(9, 'Genres')\n",
        "columns.insert(10, 'Tags')\n",
        "columns.insert(11, 'Status Distribution')\n",
        "columns.insert(12, 'Prequel')\n",
        "columns.insert(13, 'Sequel')\n",
        "columns.insert(14, 'addictive')\n",
        "columns.insert(15, 'indecisive')\n",
        "columns.insert(16, 'forgettable')\n",
        "columns.insert(17, 'NoLoved')\n",
        "columns.insert(18, 'excelent')\n",
        "columns.insert(19, 'loved')\n",
        "columns.insert(20, 'choosed')"
      ],
      "metadata": {
        "id": "6J9ukIFPoWoJ"
      },
      "execution_count": null,
      "outputs": []
    },
    {
      "cell_type": "code",
      "source": [
        "# Se califica cada serie usando el script creado\n",
        "anilist_scores = anilist_score(ani_tags, anidat)\n",
        "ani_scores = pd.DataFrame(anilist_scores)\n",
        "ani_scores = ani_scores[columns]\n",
        "print(len(ani_scores))\n",
        "\n",
        "ani_scores.to_csv('ani_scores22.csv', index=False)\n",
        "ani_scores.to_excel('ani_scores22.xlsx', index=False)"
      ],
      "metadata": {
        "id": "dR7b94BRob1O"
      },
      "execution_count": null,
      "outputs": []
    }
  ]
}
