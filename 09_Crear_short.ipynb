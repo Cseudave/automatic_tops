{
  "nbformat": 4,
  "nbformat_minor": 0,
  "metadata": {
    "colab": {
      "provenance": [],
      "collapsed_sections": [
        "0oaV69iaTiC_",
        "bzOMqbshUkck",
        "NG_eYW29Z-Ko",
        "IkeNSNbahS1Q",
        "1RqyiLRPluFm",
        "r0jnE0zqrGwM",
        "lYo71E3WrMiL",
        "2wv-m8-3tUta",
        "-1MZqIzqwc5E",
        "K_YwM-ojxGeC",
        "j2pFu83nyDSG"
      ],
      "authorship_tag": "ABX9TyP3yqpd47Lc/PQmZmdE1aLF",
      "include_colab_link": true
    },
    "kernelspec": {
      "name": "python3",
      "display_name": "Python 3"
    },
    "language_info": {
      "name": "python"
    }
  },
  "cells": [
    {
      "cell_type": "markdown",
      "metadata": {
        "id": "view-in-github",
        "colab_type": "text"
      },
      "source": [
        "<a href=\"https://colab.research.google.com/github/Cseudave/automatic_tops/blob/main/09_Crear_short.ipynb\" target=\"_parent\"><img src=\"https://colab.research.google.com/assets/colab-badge.svg\" alt=\"Open In Colab\"/></a>"
      ]
    },
    {
      "cell_type": "markdown",
      "source": [
        "# Crear los videos cortos"
      ],
      "metadata": {
        "id": "5gBEMIi1p_TV"
      }
    },
    {
      "cell_type": "markdown",
      "source": [
        "MoviePy es una excelente librería que permite trabajar con videos usando python. Aunque no está optimizada para utilizar tarjetas gráficas, será muy útil.  "
      ],
      "metadata": {
        "id": "owF6cTi4qgJu"
      }
    },
    {
      "cell_type": "markdown",
      "source": [
        "## Instalar librerías necesarias"
      ],
      "metadata": {
        "id": "r0jnE0zqrGwM"
      }
    },
    {
      "cell_type": "code",
      "source": [
        "# Instalamos librerías\n",
        "!pip install google-api-python-client\n",
        "!pip install pytube\n",
        "\n",
        "!pip install moviepy\n",
        "!pip install imageio-ffmpeg \n",
        "!pip install imageio\n",
        "!apt install imagemagick\n",
        "\n",
        "!pip install IPython\n",
        "!pip install mpld3 \n",
        "\n",
        "!pip install fuzzywuzzy\n",
        "\n",
        "!pip install playsound"
      ],
      "metadata": {
        "id": "k567T-Hyp-W1"
      },
      "execution_count": null,
      "outputs": []
    },
    {
      "cell_type": "code",
      "source": [
        "# Actulizamos librerías\n",
        "!pip install --upgrade imageio-ffmpeg\n",
        "!pip install --upgrade moviepy \n",
        "!pip install --upgrade imageio\n",
        "!pip install --upgrade ffmpeg"
      ],
      "metadata": {
        "id": "keYru7rUq0kf"
      },
      "execution_count": null,
      "outputs": []
    },
    {
      "cell_type": "code",
      "source": [
        "# Configuración adicional para trabajar con texto en movipy usando ImageMagick\n",
        "!cat /etc/ImageMagick-6/policy.xml | sed 's/none/read,write/g'> /etc/ImageMagick-6/policy.xml"
      ],
      "metadata": {
        "id": "IcRC4lTLq4Kf"
      },
      "execution_count": null,
      "outputs": []
    },
    {
      "cell_type": "code",
      "source": [
        "# Importamos librerías\n",
        "from apiclient.discovery import build\n",
        "from pytube import YouTube\n",
        "import os \n",
        "import time\n",
        "from bs4 import BeautifulSoup\n",
        "\n",
        "import re\n",
        "import numpy as np\n",
        "from numpy import arange\n",
        "import pandas as pd\n",
        "import matplotlib.pyplot as plt\n",
        "\n",
        "import csv\n",
        "\n",
        "from IPython.core.display import HTML\n",
        "import mpld3 \n",
        "from scipy.stats import moment\n",
        "from moviepy.editor import *\n",
        "\n",
        "import os \n",
        "\n",
        "from moviepy.audio.AudioClip import concatenate_audioclips\n",
        "from moviepy.editor import concatenate_videoclips\n",
        "from moviepy.editor import VideoFileClip\n",
        "from moviepy.editor import ColorClip\n",
        "from moviepy.editor import CompositeVideoClip\n",
        "from moviepy.editor import *\n",
        "\n",
        "from IPython.display import Audio\n",
        "from datetime import datetime"
      ],
      "metadata": {
        "id": "BUIgEuzErB64"
      },
      "execution_count": null,
      "outputs": []
    },
    {
      "cell_type": "markdown",
      "source": [
        "## Crear el video short según la base de datos"
      ],
      "metadata": {
        "id": "j2pFu83nyDSG"
      }
    },
    {
      "cell_type": "code",
      "source": [
        "# Conectamos con drive\n",
        "from google.colab import drive\n",
        "drive.mount('/content/drive')"
      ],
      "metadata": {
        "id": "_CUoGGwqyGyk"
      },
      "execution_count": null,
      "outputs": []
    },
    {
      "cell_type": "code",
      "source": [
        "# Entramos en el directorio \n",
        "cd drive/MyDrive/tops_anime/"
      ],
      "metadata": {
        "id": "DjzSCYvlyLRO"
      },
      "execution_count": null,
      "outputs": []
    },
    {
      "cell_type": "code",
      "source": [
        "# cargamos el la base de datos\n",
        "import pandas as pd\n",
        "\n",
        "db = pd.read_csv('ani_scores22.csv')\n"
      ],
      "metadata": {
        "id": "iyJawmjvyOLZ"
      },
      "execution_count": null,
      "outputs": []
    },
    {
      "cell_type": "code",
      "source": [
        "def top_by_genre(genre, db):\n",
        "  df = db.sort_values(by=[str(genre)], ascending=False)\n",
        "  pre_lista = list(*df['name'].head(10))\n",
        "  lista = []\n",
        "  # Limpiamos los nombres de ':'\n",
        "  for element in pre_lista:\n",
        "    lista.append(element.replace(\":\",\"\"))\n",
        "\n",
        "  # Descargamos los openings de youtube\n",
        "  for anime in lista:\n",
        "  filenames = os.listdir('ops_clips/')\n",
        "  if str(anime) + '_clip.mp4' in filenames:\n",
        "    print('Ya tenemos su clip')\n",
        "  else:\n",
        "    url, opening = download_op(str(anime), youtube=yt, directorio='ops_full/')\n",
        "    print(url, opening)\n",
        "\n",
        "  # Se piden sus mejores cortes y se hacen los clips\n",
        "  for anime in lista:\n",
        "    #a1 = best_cut(anime, origin=0, n=20)\n",
        "    try:\n",
        "      a = best_cut(anime, origin=-1, n=20)\n",
        "      print(anime, a)\n",
        "      op_clips(anime, a[0])\n",
        "    except:\n",
        "      a = best_cut(anime, origin=-1, n=10)\n",
        "      print(anime, a)\n",
        "      op_clips(anime, a[0]) \n",
        "\n",
        "  # Se crea el top crudo\n",
        "  nombre = str(genre) + '_top'\n",
        "  video = clips_top(lista, name=nombre)\n",
        "\n",
        "  # Se crea el top en español e inglés\n",
        "  top = nombre\n",
        "  name_top = 'Animes de '+ str(genre)\n",
        "  name_user = '2022'\n",
        "  intro_end(top, name_top, name_user, lang='es')\n",
        "  intro_end(top, name_top, name_user, lang='en')\n",
        "  Audio(\"sound.mp3\", autoplay=True)"
      ],
      "metadata": {
        "id": "0EkyhKmxyxO6"
      },
      "execution_count": null,
      "outputs": []
    },
    {
      "cell_type": "code",
      "source": [
        "# Para descargar manualmente\n",
        "anime = 'Nombre anime'\n",
        "url = 'https://www.youtube.com/watch?v=video_buscado'\n",
        "directorio = 'ops_full/'\n",
        "video = YouTube(url)\n",
        "# Obtén el primer stream de video disponible\n",
        "descarga = video.streams.get_highest_resolution()\n",
        "# Descarga el video en el directorio actual\n",
        "descarga.download(output_path=str(directorio), filename=str(anime) + '.mp4')"
      ],
      "metadata": {
        "id": "WY55yBNUzo4p"
      },
      "execution_count": null,
      "outputs": []
    },
    {
      "cell_type": "code",
      "source": [
        "# Para hacer clips manualmente\n",
        "anime = 'Nombre anime'\n",
        "# Tiempo de corte inicial\n",
        "o = 5\n",
        "a = best_cut(anime, origin=-1, n=20)\n",
        "# op_clips(anime, a[0], o)\n",
        "op_clips(anime, 54, o)"
      ],
      "metadata": {
        "id": "LvtISTpAzyCr"
      },
      "execution_count": null,
      "outputs": []
    }
  ]
}